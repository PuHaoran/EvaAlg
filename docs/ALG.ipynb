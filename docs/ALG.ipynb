{
 "cells": [
  {
   "cell_type": "markdown",
   "id": "ee5995c7",
   "metadata": {},
   "source": [
    "## 1. 基础算法\n",
    "\n",
    "##### 双指针\n",
    "\n",
    "|                         Alg                         |  思想         |  时间复杂度 | Tag  |\n",
    "| :----------------------------------------------------------: |:-------------------: |:-------------------: |:-------------------: |\n",
    "| **剑指 Offer 05. 替换空格** | 双指针。先利用空格数量开辟空间，然后根据双指针所指的元素从后向前进行替换操作。 | $O(n)$ | 字符串 双指针 |\n",
    "\n",
    "##### 链表\n",
    "\n",
    "|                         Alg                         |  思想         |  时间复杂度 | Tag  |\n",
    "| :----------------------------------------------------------: |:-------------------: |:-------------------: |:-------------------: |\n",
    "| **剑指 Offer 06. 从尾到头打印链表** | 递归。先访问每一个节点，然后将节点添加到结果数组中。 | - | 链表 递归 |"
   ]
  },
  {
   "cell_type": "code",
   "execution_count": null,
   "id": "dea53613",
   "metadata": {},
   "outputs": [],
   "source": []
  }
 ],
 "metadata": {
  "kernelspec": {
   "display_name": "Python 3",
   "language": "python",
   "name": "python3"
  },
  "language_info": {
   "codemirror_mode": {
    "name": "ipython",
    "version": 3
   },
   "file_extension": ".py",
   "mimetype": "text/x-python",
   "name": "python",
   "nbconvert_exporter": "python",
   "pygments_lexer": "ipython3",
   "version": "3.6.10"
  }
 },
 "nbformat": 4,
 "nbformat_minor": 5
}
