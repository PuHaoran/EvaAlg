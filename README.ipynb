{
 "cells": [
  {
   "cell_type": "markdown",
   "id": "edb094dc",
   "metadata": {},
   "source": [
    "## 1. 基础算法\n",
    "\n",
    "|                         Alg                         |  思想         |  时间复杂度 | 案例  |\n",
    "| :----------------------------------------------------------: |:-------------------: |:-------------------: |:--------------------------------------: |\n",
    "| **快排** | 分治的思想，通过一趟排序将数组分成两部分，一部分数组均比另一部分数组的元素小。 | $O(nlogn)$ | - |\n",
    "| **第k个数** | - | - | - |\n",
    "\n",
    "\n",
    "边界问题靠模板；在理解算法的基础上，背个模板可以节省大量时间。"
   ]
  },
  {
   "cell_type": "code",
   "execution_count": null,
   "id": "13958764",
   "metadata": {},
   "outputs": [],
   "source": []
  }
 ],
 "metadata": {
  "kernelspec": {
   "display_name": "Python 3",
   "language": "python",
   "name": "python3"
  },
  "language_info": {
   "codemirror_mode": {
    "name": "ipython",
    "version": 3
   },
   "file_extension": ".py",
   "mimetype": "text/x-python",
   "name": "python",
   "nbconvert_exporter": "python",
   "pygments_lexer": "ipython3",
   "version": "3.6.10"
  }
 },
 "nbformat": 4,
 "nbformat_minor": 5
}
