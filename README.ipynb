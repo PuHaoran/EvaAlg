{
 "cells": [
  {
   "cell_type": "markdown",
   "id": "e966d0bb",
   "metadata": {},
   "source": [
    "## 1. 基础算法\n",
    "\n",
    "|                         Alg                         |  思想         |  时间复杂度 | ACwing  |\n",
    "| :----------------------------------------------------------: |:-------------------: |:-------------------: |:--------------------------------------: |\n",
    "| **快排** | 分治的思想，确定分界点，一趟排序将数组分成两部分，一部分数组均比另一部分元素小。 | $O(nlogn)$ | 785 |\n",
    "| **第k个数** | 分治的思想，确定分界点，一趟排序将数组分成两部分，一部分数组均比另一部分数组元素小。若k-1在Left区间，则遍历Left区间；否则，右区间。 | $O(n)$ | 786 |\n",
    "| **Huffman树** | 贪心的思想，先将数据进入优先队列再构树，权重越大(词频越高)离根节点越近，使得搜索到大权值(高词频)的节点付出的代价小。应用场景：层次softmax。 | - | - |\n",
    "| **归并排序** | 分治的思想，数组中间为分界点，将数组分为Left和Right，临时数组存储排序后的数组(双指针)并赋值个原数组。 | $O(nlogn)$ | 787 788  |\n",
    "| **快排** | 分治的思想，确定分界点，一趟排序将数组分成两部分，一部分数组均比另一部分元素小。 | $O(nlogn)$ | 785 |\n",
    "| **整数二分** | 整数二分，找左/右区间边界点。if check(mid)缩小区间范围，递归。 | $O(nlogn)$ | 789 |\n",
    "| **浮点数二分** | 缩小左右区间边界点，直至区间长度<ε。 | $O(nlogn)$ | 790 |\n",
    "\n",
    "边界问题靠模板，在理解算法的基础上，背个模板可以节省大量时间。"
   ]
  },
  {
   "cell_type": "code",
   "execution_count": null,
   "id": "efd464db",
   "metadata": {},
   "outputs": [],
   "source": []
  }
 ],
 "metadata": {
  "kernelspec": {
   "display_name": "Python 3",
   "language": "python",
   "name": "python3"
  },
  "language_info": {
   "codemirror_mode": {
    "name": "ipython",
    "version": 3
   },
   "file_extension": ".py",
   "mimetype": "text/x-python",
   "name": "python",
   "nbconvert_exporter": "python",
   "pygments_lexer": "ipython3",
   "version": "3.6.10"
  }
 },
 "nbformat": 4,
 "nbformat_minor": 5
}
